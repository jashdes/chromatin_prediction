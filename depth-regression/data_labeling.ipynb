{
 "cells": [
  {
   "cell_type": "code",
   "execution_count": null,
   "metadata": {},
   "outputs": [],
   "source": [
    "import matplotlib\n",
    "matplotlib.use('TkAgg')\n",
    "import matplotlib.pyplot as plt\n",
    "import numpy as np\n",
    "from skimage import io\n",
    "\n",
    "imgpath = input()\n",
    "\n",
    "# Load top image\n",
    "img = io.imread(imgpath)\n",
    "\n",
    "n_slices = img.shape[0]\n",
    "\n",
    "print(\"Found \"  + str(n_slices) + \" slices.\")"
   ]
  },
  {
   "cell_type": "code",
   "execution_count": null,
   "metadata": {
    "scrolled": false
   },
   "outputs": [],
   "source": [
    "plt.rcParams['figure.figsize'] = [15, 15]\n",
    "\n",
    "depths = {}\n",
    "position_source = None\n",
    "\n",
    "# Assign z-depths and position source slices\n",
    "%matplotlib inline\n",
    "\n",
    "for s in range(n_slices):\n",
    "    \n",
    "    plt.figure()\n",
    "    plt.imshow(img[s,:,:])\n",
    "    plt.axis('off')\n",
    "    plt.show()\n",
    "    \n",
    "    print(\"Slice \" + str(s+1) + \" z-depth, 'p' if position source, 's' to skip:\")\n",
    "    z = input()\n",
    "    if z == 'p':\n",
    "        position_source = s\n",
    "    elif z == 's':\n",
    "        continue\n",
    "    else:\n",
    "        depths[s] = z"
   ]
  },
  {
   "cell_type": "code",
   "execution_count": null,
   "metadata": {
    "scrolled": false
   },
   "outputs": [],
   "source": [
    "# pick spot XY positions\n",
    "print(\"Select spots\")\n",
    "%matplotlib qt\n",
    "plt.figure()\n",
    "plt.imshow(img[position_source,:,:])\n",
    "plt.axis('off')\n",
    "coords = plt.ginput(-1, -1, True, None, 3, 2)"
   ]
  },
  {
   "cell_type": "code",
   "execution_count": null,
   "metadata": {},
   "outputs": [],
   "source": [
    "import os\n",
    "import json\n",
    "\n",
    "# save training data\n",
    "with open(imgpath + '.json', 'w') as outfile:\n",
    "    json.dump({\n",
    "        'XY': coords,\n",
    "        'Z': depths\n",
    "        }, outfile, indent=4)"
   ]
  }
 ],
 "metadata": {
  "kernelspec": {
   "display_name": "Python 3",
   "language": "python",
   "name": "python3"
  },
  "language_info": {
   "codemirror_mode": {
    "name": "ipython",
    "version": 3
   },
   "file_extension": ".py",
   "mimetype": "text/x-python",
   "name": "python",
   "nbconvert_exporter": "python",
   "pygments_lexer": "ipython3",
   "version": "3.6.8"
  }
 },
 "nbformat": 4,
 "nbformat_minor": 2
}
